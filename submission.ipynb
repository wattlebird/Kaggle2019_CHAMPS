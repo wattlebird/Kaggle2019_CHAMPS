{
 "cells": [
  {
   "cell_type": "code",
   "execution_count": 1,
   "metadata": {},
   "outputs": [],
   "source": [
    "import pandas as pd\n",
    "import numpy as np\n",
    "import setting\n",
    "import gc\n",
    "\n",
    "gc.enable()\n",
    "\n",
    "DATA = '~/Data/Molecular'\n",
    "\n",
    "data = pd.concat([\n",
    "    pd.read_pickle(f\"{DATA}/basic.gz\"),\n",
    "    pd.read_pickle(f\"{DATA}/angle_feature.gz\"),\n",
    "    pd.read_pickle(f\"{DATA}/criskiev_distance_feature.gz\"),\n",
    "    pd.read_pickle(f\"{DATA}/qm9.gz\")\n",
    "], axis = 1)"
   ]
  },
  {
   "cell_type": "code",
   "execution_count": 2,
   "metadata": {},
   "outputs": [],
   "source": [
    "data.drop(columns=[\n",
    "    'id',\n",
    "    'molecule_name',\n",
    "    'atom_index_0',\n",
    "    'atom_index_1',\n",
    "    'type',\n",
    "    'atom_0',\n",
    "    'x_0',\n",
    "    'y_0',\n",
    "    'z_0',\n",
    "    'atom_1',\n",
    "    'x_1',\n",
    "    'y_1',\n",
    "    'z_1'\n",
    "], inplace=True)\n",
    "test = data.iloc[4658147:, :]\n",
    "data = data.iloc[:4658147, :]"
   ]
  },
  {
   "cell_type": "code",
   "execution_count": 3,
   "metadata": {},
   "outputs": [],
   "source": [
    "train = pd.read_csv(f\"{DATA}/train.csv\", dtype={\n",
    "    'molecule_name': 'category',\n",
    "    'atom_index_0': 'int8',\n",
    "    'atom_index_1': 'int8',\n",
    "    'type': 'category',\n",
    "    'scalar_coupling_constant': 'float32'\n",
    "}, usecols=['type', 'scalar_coupling_constant'])\n",
    "y = train.scalar_coupling_constant"
   ]
  },
  {
   "cell_type": "code",
   "execution_count": null,
   "metadata": {},
   "outputs": [],
   "source": [
    "from lightgbm import LGBMRegressor\n",
    "\n",
    "model = {}\n",
    "\n",
    "for bond in pd.unique(train['type']):\n",
    "    X = data[train['type'] == bond]\n",
    "    Y = y[train['type'] == bond]\n",
    "    lgbm = LGBMRegressor(objective='regression_l1', n_estimators=5000, learning_rate=0.1, subsample_freq=1, \\\n",
    "                     feature_fraction=0.7, subsample=0.7, reg_alpha=0.1, reg_lambda=0.3, device_type='gpu',\n",
    "                    **setting.param[bond])\n",
    "    lgbm.fit(X, Y, eval_metric='regression_l1', verbose=100)\n",
    "    model[bond] = lgbm"
   ]
  },
  {
   "cell_type": "code",
   "execution_count": 11,
   "metadata": {},
   "outputs": [],
   "source": [
    "test_ = pd.read_csv(f\"{DATA}/test.csv\", dtype={\n",
    "    'molecule_name': 'category',\n",
    "    'atom_index_0': 'int8',\n",
    "    'atom_index_1': 'int8',\n",
    "    'type': 'category'\n",
    "}, usecols=['type'])"
   ]
  },
  {
   "cell_type": "code",
   "execution_count": 14,
   "metadata": {},
   "outputs": [],
   "source": [
    "test = test.reset_index(drop=True)"
   ]
  },
  {
   "cell_type": "code",
   "execution_count": 16,
   "metadata": {},
   "outputs": [],
   "source": [
    "submission = pd.read_csv(f\"{DATA}/sample_submission.csv\")\n",
    "for bond in pd.unique(train['type']):\n",
    "    X = test[test_['type'] == bond]\n",
    "    Y = model[bond].predict(X)\n",
    "    submission.loc[test_['type'] == bond, 'scalar_coupling_constant'] = Y"
   ]
  },
  {
   "cell_type": "code",
   "execution_count": 17,
   "metadata": {},
   "outputs": [],
   "source": [
    "submission.to_csv(\"submission_08_25_01.csv\", index=False)"
   ]
  },
  {
   "cell_type": "code",
   "execution_count": null,
   "metadata": {},
   "outputs": [],
   "source": []
  }
 ],
 "metadata": {
  "kernelspec": {
   "display_name": "Python 3",
   "language": "python",
   "name": "python3"
  },
  "language_info": {
   "codemirror_mode": {
    "name": "ipython",
    "version": 3
   },
   "file_extension": ".py",
   "mimetype": "text/x-python",
   "name": "python",
   "nbconvert_exporter": "python",
   "pygments_lexer": "ipython3",
   "version": "3.7.1"
  }
 },
 "nbformat": 4,
 "nbformat_minor": 2
}
