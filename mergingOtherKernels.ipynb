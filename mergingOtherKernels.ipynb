{
 "cells": [
  {
   "cell_type": "code",
   "execution_count": 1,
   "metadata": {},
   "outputs": [],
   "source": [
    "import numpy as np \n",
    "import pandas as pd \n",
    "\n",
    "DATA = '~/Data/Molecular'\n",
    "\n",
    "outputs = [\"submission-fnands-mpnn.csv\",\n",
    "          \"submission-harshit92-fork-from-kernel-1-481.csv\",\n",
    "          \"submission-marcelotamashiro-lgb-public-kernels-plus-more-features.csv\",\n",
    "          \"submission-svzip-19191379.csv\",\n",
    "          \"submission-toshik-schnet-starter-kit.csv\",\n",
    "          \"submission-xwxw2929-keras-neural-net-and-distance-features.csv\"]"
   ]
  },
  {
   "cell_type": "code",
   "execution_count": 2,
   "metadata": {},
   "outputs": [
    {
     "name": "stderr",
     "output_type": "stream",
     "text": [
      "/home/ike/.miniconda3/lib/python3.7/site-packages/numpy/lib/arraysetops.py:522: FutureWarning: elementwise comparison failed; returning scalar instead, but in the future will perform elementwise comparison\n",
      "  mask |= (ar1 == a)\n"
     ]
    }
   ],
   "source": [
    "subs = []\n",
    "for i, fileName in enumerate(outputs):\n",
    "    subs.append(pd.read_csv(f\"{DATA}/{outputs[i]}\", index_col=\"id\").add_suffix(f\"_{i}\"))"
   ]
  },
  {
   "cell_type": "code",
   "execution_count": 3,
   "metadata": {},
   "outputs": [],
   "source": [
    "subs.append(pd.read_csv(\"submission_08_29_01.csv\", index_col=\"id\"))"
   ]
  },
  {
   "cell_type": "code",
   "execution_count": 4,
   "metadata": {},
   "outputs": [],
   "source": [
    "sub = pd.concat(subs, axis=1)"
   ]
  },
  {
   "cell_type": "code",
   "execution_count": 12,
   "metadata": {},
   "outputs": [
    {
     "data": {
      "text/html": [
       "<div>\n",
       "<style scoped>\n",
       "    .dataframe tbody tr th:only-of-type {\n",
       "        vertical-align: middle;\n",
       "    }\n",
       "\n",
       "    .dataframe tbody tr th {\n",
       "        vertical-align: top;\n",
       "    }\n",
       "\n",
       "    .dataframe thead th {\n",
       "        text-align: right;\n",
       "    }\n",
       "</style>\n",
       "<table border=\"1\" class=\"dataframe\">\n",
       "  <thead>\n",
       "    <tr style=\"text-align: right;\">\n",
       "      <th></th>\n",
       "      <th>scalar_coupling_constant_0</th>\n",
       "      <th>scalar_coupling_constant_1</th>\n",
       "      <th>scalar_coupling_constant_2</th>\n",
       "      <th>scalar_coupling_constant_3</th>\n",
       "      <th>scalar_coupling_constant_4</th>\n",
       "      <th>scalar_coupling_constant_5</th>\n",
       "      <th>scalar_coupling_constant</th>\n",
       "    </tr>\n",
       "    <tr>\n",
       "      <th>id</th>\n",
       "      <th></th>\n",
       "      <th></th>\n",
       "      <th></th>\n",
       "      <th></th>\n",
       "      <th></th>\n",
       "      <th></th>\n",
       "      <th></th>\n",
       "    </tr>\n",
       "  </thead>\n",
       "  <tbody>\n",
       "    <tr>\n",
       "      <th>4658147</th>\n",
       "      <td>19.242008</td>\n",
       "      <td>22.414471</td>\n",
       "      <td>16.333971</td>\n",
       "      <td>23.635113</td>\n",
       "      <td>55.943756</td>\n",
       "      <td>16.752722</td>\n",
       "      <td>9.770131</td>\n",
       "    </tr>\n",
       "    <tr>\n",
       "      <th>4658148</th>\n",
       "      <td>186.417656</td>\n",
       "      <td>142.809891</td>\n",
       "      <td>197.289728</td>\n",
       "      <td>150.373672</td>\n",
       "      <td>185.007780</td>\n",
       "      <td>129.551773</td>\n",
       "      <td>164.768369</td>\n",
       "    </tr>\n",
       "    <tr>\n",
       "      <th>4658149</th>\n",
       "      <td>14.021063</td>\n",
       "      <td>9.560091</td>\n",
       "      <td>6.159606</td>\n",
       "      <td>9.439700</td>\n",
       "      <td>1.717238</td>\n",
       "      <td>5.626666</td>\n",
       "      <td>9.071588</td>\n",
       "    </tr>\n",
       "    <tr>\n",
       "      <th>4658150</th>\n",
       "      <td>186.417664</td>\n",
       "      <td>142.809891</td>\n",
       "      <td>196.833797</td>\n",
       "      <td>150.373672</td>\n",
       "      <td>185.007780</td>\n",
       "      <td>129.551773</td>\n",
       "      <td>164.768369</td>\n",
       "    </tr>\n",
       "    <tr>\n",
       "      <th>4658151</th>\n",
       "      <td>19.242008</td>\n",
       "      <td>22.414471</td>\n",
       "      <td>17.863188</td>\n",
       "      <td>23.635113</td>\n",
       "      <td>55.943756</td>\n",
       "      <td>16.752722</td>\n",
       "      <td>9.770131</td>\n",
       "    </tr>\n",
       "  </tbody>\n",
       "</table>\n",
       "</div>"
      ],
      "text/plain": [
       "         scalar_coupling_constant_0  scalar_coupling_constant_1  \\\n",
       "id                                                                \n",
       "4658147                   19.242008                   22.414471   \n",
       "4658148                  186.417656                  142.809891   \n",
       "4658149                   14.021063                    9.560091   \n",
       "4658150                  186.417664                  142.809891   \n",
       "4658151                   19.242008                   22.414471   \n",
       "\n",
       "         scalar_coupling_constant_2  scalar_coupling_constant_3  \\\n",
       "id                                                                \n",
       "4658147                   16.333971                   23.635113   \n",
       "4658148                  197.289728                  150.373672   \n",
       "4658149                    6.159606                    9.439700   \n",
       "4658150                  196.833797                  150.373672   \n",
       "4658151                   17.863188                   23.635113   \n",
       "\n",
       "         scalar_coupling_constant_4  scalar_coupling_constant_5  \\\n",
       "id                                                                \n",
       "4658147                   55.943756                   16.752722   \n",
       "4658148                  185.007780                  129.551773   \n",
       "4658149                    1.717238                    5.626666   \n",
       "4658150                  185.007780                  129.551773   \n",
       "4658151                   55.943756                   16.752722   \n",
       "\n",
       "         scalar_coupling_constant  \n",
       "id                                 \n",
       "4658147                  9.770131  \n",
       "4658148                164.768369  \n",
       "4658149                  9.071588  \n",
       "4658150                164.768369  \n",
       "4658151                  9.770131  "
      ]
     },
     "execution_count": 12,
     "metadata": {},
     "output_type": "execute_result"
    }
   ],
   "source": [
    "sub.head()"
   ]
  },
  {
   "cell_type": "code",
   "execution_count": 5,
   "metadata": {},
   "outputs": [],
   "source": [
    "sub.median(axis=1).rename(\"scalar_coupling_constant\").to_frame().to_csv(\"submission_08_28_02.csv\")"
   ]
  },
  {
   "cell_type": "code",
   "execution_count": null,
   "metadata": {},
   "outputs": [],
   "source": []
  }
 ],
 "metadata": {
  "kernelspec": {
   "display_name": "Python 3",
   "language": "python",
   "name": "python3"
  },
  "language_info": {
   "codemirror_mode": {
    "name": "ipython",
    "version": 3
   },
   "file_extension": ".py",
   "mimetype": "text/x-python",
   "name": "python",
   "nbconvert_exporter": "python",
   "pygments_lexer": "ipython3",
   "version": "3.7.4"
  }
 },
 "nbformat": 4,
 "nbformat_minor": 2
}
